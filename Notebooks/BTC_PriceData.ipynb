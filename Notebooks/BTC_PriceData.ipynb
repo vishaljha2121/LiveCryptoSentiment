{
 "cells": [
  {
   "cell_type": "code",
   "execution_count": 1,
   "metadata": {},
   "outputs": [],
   "source": [
    "from requests import Request, Session\n",
    "from requests.exceptions import ConnectionError, Timeout, TooManyRedirects\n",
    "import json\n",
    "import time\n",
    "import datetime\n",
    "import pandas as pd"
   ]
  },
  {
   "cell_type": "code",
   "execution_count": 2,
   "metadata": {},
   "outputs": [
    {
     "name": "stdout",
     "output_type": "stream",
     "text": [
      "2022-01-23 : 1642896000\n",
      "2022-01-24 : 1642982400\n"
     ]
    }
   ],
   "source": [
    "## Convert given date to unix-milliseconds\n",
    "date1 = '2022-01-23'\n",
    "unix = pd.to_datetime(date1).value // 10**9\n",
    "print(date1,\":\",unix)\n",
    "\n",
    "date2 = '2022-01-24'\n",
    "unix = pd.to_datetime(date2).value // 10**9\n",
    "print(date2,\":\",unix)"
   ]
  },
  {
   "cell_type": "code",
   "execution_count": 3,
   "metadata": {},
   "outputs": [
    {
     "name": "stdout",
     "output_type": "stream",
     "text": [
      "200 OK\n",
      "{\"prices\":[[1642896166621,35180.435462830384],[1642899604966,35432.61134395314],[1642903362311,35448.608106994194],[1642906830933,35044.59262923074],[1642910508104,35176.65728559375],[1642914151050,35348.42857530886],[1642917659189,35591.25705774395],[1642921325713,35342.902225939535],[1642924951086,35673.892148853825],[1642928575653,35760.80532005177],[1642932210452,35974.488705639684],[1642935648639,35898.49265417996],[1642939382142,35764.30539081825],[1642942855334,35924.69475847814],[1642946608245,36066.53867510662],[1642950193192,35208.08509273927],[1642954326416,35476.641272607],[1642957238487,35363.39608281859],[1642960836652,35472.73143627676],[1642964487734,35005.57945651765],[1642968200712,34804.560652713786],[1642971750755,35332.049887473404],[1642975229876,35566.67303014184],[1642978900086,35578.38113726986]],\"market_caps\":[[1642896166621,666220701468.4846],[1642899604966,671229135223.7238],[1642903362311,672843789878.7097],[1642906830933,663652347029.8301],[1642910508104,667024803963.1033],[1642914151050,669408851284.4828],[1642917659189,669144508354.0773],[1642921325713,669306847075.9701],[1642924951086,676614444957.8046],[1642928575653,677223826829.0125],[1642932210452,681459865867.596],[1642935648639,679833520194.343],[1642939382142,677293686199.6987],[1642942855334,680332205593.169],[1642946608245,683018840328.7296],[1642950193192,667049731722.6296],[1642954326416,670433659293.4631],[1642957238487,669707786772.2845],[1642960836652,671779040667.0657],[1642964487734,662933668429.5022],[1642968200712,659127655895.1528],[1642971750755,669119244070.2184],[1642975229876,673563858978.5541],[1642978900086,673384832281.8615]],\"total_volumes\":[[1642896166621,35517336417.257744],[1642899604966,34858671845.273254],[1642903362311,34405602640.59341],[1642906830933,33824047534.172935],[1642910508104,33021623496.881107],[1642914151050,32991963733.290344],[1642917659189,32939865337.255337],[1642921325713,32035092344.227673],[1642924951086,31476562248.925236],[1642928575653,31429158752.069717],[1642932210452,31322356130.960354],[1642935648639,27980573265.820477],[1642939382142,26748968171.48769],[1642942855334,26143385836.215725],[1642946608245,25319542658.070587],[1642950193192,25064206181.529686],[1642954326416,24498607958.104908],[1642957238487,23641113787.859543],[1642960836652,23159339373.091396],[1642964487734,22319159065.035976],[1642968200712,22233564486.708412],[1642971750755,21855911378.753204],[1642975229876,21696302828.450016],[1642978900086,21280930949.553043]]}\n"
     ]
    }
   ],
   "source": [
    "url = 'https://api.coingecko.com/api/v3/coins/bitcoin/market_chart/range?vs_currency=usd&from=1642896000&to=1642982400'\n",
    "## Preparing the Request\n",
    "req = Request('GET', url)\n",
    "\n",
    "## Creating the Session\n",
    "sess = Session()\n",
    "\n",
    "## Making the Request\n",
    "prepped = sess.prepare_request(req)\n",
    "\n",
    "## Sending the Request\n",
    "try:\n",
    "    resp = sess.send(prepped)\n",
    "except (ConnectionError, Timeout, TooManyRedirects) as e:\n",
    "    print(e)\n",
    "else:\n",
    "    print(resp.status_code, resp.reason)\n",
    "    print(resp.text)\n",
    "    "
   ]
  },
  {
   "cell_type": "code",
   "execution_count": 4,
   "metadata": {},
   "outputs": [],
   "source": [
    "data = json.loads(resp.text)\n",
    "prices = data['prices']\n",
    "\n",
    "df = pd.DataFrame(prices)"
   ]
  },
  {
   "cell_type": "code",
   "execution_count": 5,
   "metadata": {},
   "outputs": [
    {
     "data": {
      "text/html": [
       "<div>\n",
       "<style scoped>\n",
       "    .dataframe tbody tr th:only-of-type {\n",
       "        vertical-align: middle;\n",
       "    }\n",
       "\n",
       "    .dataframe tbody tr th {\n",
       "        vertical-align: top;\n",
       "    }\n",
       "\n",
       "    .dataframe thead th {\n",
       "        text-align: right;\n",
       "    }\n",
       "</style>\n",
       "<table border=\"1\" class=\"dataframe\">\n",
       "  <thead>\n",
       "    <tr style=\"text-align: right;\">\n",
       "      <th></th>\n",
       "      <th>0</th>\n",
       "      <th>1</th>\n",
       "    </tr>\n",
       "  </thead>\n",
       "  <tbody>\n",
       "    <tr>\n",
       "      <th>0</th>\n",
       "      <td>1642896166621</td>\n",
       "      <td>35180.435463</td>\n",
       "    </tr>\n",
       "    <tr>\n",
       "      <th>1</th>\n",
       "      <td>1642899604966</td>\n",
       "      <td>35432.611344</td>\n",
       "    </tr>\n",
       "    <tr>\n",
       "      <th>2</th>\n",
       "      <td>1642903362311</td>\n",
       "      <td>35448.608107</td>\n",
       "    </tr>\n",
       "    <tr>\n",
       "      <th>3</th>\n",
       "      <td>1642906830933</td>\n",
       "      <td>35044.592629</td>\n",
       "    </tr>\n",
       "    <tr>\n",
       "      <th>4</th>\n",
       "      <td>1642910508104</td>\n",
       "      <td>35176.657286</td>\n",
       "    </tr>\n",
       "  </tbody>\n",
       "</table>\n",
       "</div>"
      ],
      "text/plain": [
       "               0             1\n",
       "0  1642896166621  35180.435463\n",
       "1  1642899604966  35432.611344\n",
       "2  1642903362311  35448.608107\n",
       "3  1642906830933  35044.592629\n",
       "4  1642910508104  35176.657286"
      ]
     },
     "execution_count": 5,
     "metadata": {},
     "output_type": "execute_result"
    }
   ],
   "source": [
    "df.head()"
   ]
  },
  {
   "cell_type": "code",
   "execution_count": 6,
   "metadata": {},
   "outputs": [
    {
     "data": {
      "text/html": [
       "<div>\n",
       "<style scoped>\n",
       "    .dataframe tbody tr th:only-of-type {\n",
       "        vertical-align: middle;\n",
       "    }\n",
       "\n",
       "    .dataframe tbody tr th {\n",
       "        vertical-align: top;\n",
       "    }\n",
       "\n",
       "    .dataframe thead th {\n",
       "        text-align: right;\n",
       "    }\n",
       "</style>\n",
       "<table border=\"1\" class=\"dataframe\">\n",
       "  <thead>\n",
       "    <tr style=\"text-align: right;\">\n",
       "      <th></th>\n",
       "      <th>timestamp</th>\n",
       "      <th>price</th>\n",
       "    </tr>\n",
       "  </thead>\n",
       "  <tbody>\n",
       "    <tr>\n",
       "      <th>0</th>\n",
       "      <td>1642896166621</td>\n",
       "      <td>35180.435463</td>\n",
       "    </tr>\n",
       "    <tr>\n",
       "      <th>1</th>\n",
       "      <td>1642899604966</td>\n",
       "      <td>35432.611344</td>\n",
       "    </tr>\n",
       "    <tr>\n",
       "      <th>2</th>\n",
       "      <td>1642903362311</td>\n",
       "      <td>35448.608107</td>\n",
       "    </tr>\n",
       "    <tr>\n",
       "      <th>3</th>\n",
       "      <td>1642906830933</td>\n",
       "      <td>35044.592629</td>\n",
       "    </tr>\n",
       "    <tr>\n",
       "      <th>4</th>\n",
       "      <td>1642910508104</td>\n",
       "      <td>35176.657286</td>\n",
       "    </tr>\n",
       "  </tbody>\n",
       "</table>\n",
       "</div>"
      ],
      "text/plain": [
       "       timestamp         price\n",
       "0  1642896166621  35180.435463\n",
       "1  1642899604966  35432.611344\n",
       "2  1642903362311  35448.608107\n",
       "3  1642906830933  35044.592629\n",
       "4  1642910508104  35176.657286"
      ]
     },
     "execution_count": 6,
     "metadata": {},
     "output_type": "execute_result"
    }
   ],
   "source": [
    "## Change column names to ['timestamp', 'price']\n",
    "df.columns = ['timestamp', 'price']\n",
    "df.head()"
   ]
  },
  {
   "cell_type": "code",
   "execution_count": 7,
   "metadata": {},
   "outputs": [
    {
     "data": {
      "text/html": [
       "<div>\n",
       "<style scoped>\n",
       "    .dataframe tbody tr th:only-of-type {\n",
       "        vertical-align: middle;\n",
       "    }\n",
       "\n",
       "    .dataframe tbody tr th {\n",
       "        vertical-align: top;\n",
       "    }\n",
       "\n",
       "    .dataframe thead th {\n",
       "        text-align: right;\n",
       "    }\n",
       "</style>\n",
       "<table border=\"1\" class=\"dataframe\">\n",
       "  <thead>\n",
       "    <tr style=\"text-align: right;\">\n",
       "      <th></th>\n",
       "      <th>timestamp</th>\n",
       "      <th>price</th>\n",
       "    </tr>\n",
       "  </thead>\n",
       "  <tbody>\n",
       "    <tr>\n",
       "      <th>0</th>\n",
       "      <td>2022-01-23 00:02:46.621</td>\n",
       "      <td>35180.435463</td>\n",
       "    </tr>\n",
       "    <tr>\n",
       "      <th>1</th>\n",
       "      <td>2022-01-23 01:00:04.966</td>\n",
       "      <td>35432.611344</td>\n",
       "    </tr>\n",
       "    <tr>\n",
       "      <th>2</th>\n",
       "      <td>2022-01-23 02:02:42.311</td>\n",
       "      <td>35448.608107</td>\n",
       "    </tr>\n",
       "    <tr>\n",
       "      <th>3</th>\n",
       "      <td>2022-01-23 03:00:30.933</td>\n",
       "      <td>35044.592629</td>\n",
       "    </tr>\n",
       "    <tr>\n",
       "      <th>4</th>\n",
       "      <td>2022-01-23 04:01:48.104</td>\n",
       "      <td>35176.657286</td>\n",
       "    </tr>\n",
       "  </tbody>\n",
       "</table>\n",
       "</div>"
      ],
      "text/plain": [
       "                timestamp         price\n",
       "0 2022-01-23 00:02:46.621  35180.435463\n",
       "1 2022-01-23 01:00:04.966  35432.611344\n",
       "2 2022-01-23 02:02:42.311  35448.608107\n",
       "3 2022-01-23 03:00:30.933  35044.592629\n",
       "4 2022-01-23 04:01:48.104  35176.657286"
      ]
     },
     "execution_count": 7,
     "metadata": {},
     "output_type": "execute_result"
    }
   ],
   "source": [
    "## Convert timestamp format from unix-milliseconds to datetime\n",
    "df['timestamp'] = pd.to_datetime(df['timestamp'], unit='ms')\n",
    "df.head()"
   ]
  },
  {
   "cell_type": "code",
   "execution_count": 8,
   "metadata": {},
   "outputs": [
    {
     "data": {
      "text/html": [
       "<div>\n",
       "<style scoped>\n",
       "    .dataframe tbody tr th:only-of-type {\n",
       "        vertical-align: middle;\n",
       "    }\n",
       "\n",
       "    .dataframe tbody tr th {\n",
       "        vertical-align: top;\n",
       "    }\n",
       "\n",
       "    .dataframe thead th {\n",
       "        text-align: right;\n",
       "    }\n",
       "</style>\n",
       "<table border=\"1\" class=\"dataframe\">\n",
       "  <thead>\n",
       "    <tr style=\"text-align: right;\">\n",
       "      <th></th>\n",
       "      <th>price</th>\n",
       "      <th>date</th>\n",
       "      <th>time</th>\n",
       "    </tr>\n",
       "  </thead>\n",
       "  <tbody>\n",
       "    <tr>\n",
       "      <th>0</th>\n",
       "      <td>35180.435463</td>\n",
       "      <td>2022-01-23</td>\n",
       "      <td>00:02:46.621000</td>\n",
       "    </tr>\n",
       "    <tr>\n",
       "      <th>1</th>\n",
       "      <td>35432.611344</td>\n",
       "      <td>2022-01-23</td>\n",
       "      <td>01:00:04.966000</td>\n",
       "    </tr>\n",
       "    <tr>\n",
       "      <th>2</th>\n",
       "      <td>35448.608107</td>\n",
       "      <td>2022-01-23</td>\n",
       "      <td>02:02:42.311000</td>\n",
       "    </tr>\n",
       "    <tr>\n",
       "      <th>3</th>\n",
       "      <td>35044.592629</td>\n",
       "      <td>2022-01-23</td>\n",
       "      <td>03:00:30.933000</td>\n",
       "    </tr>\n",
       "    <tr>\n",
       "      <th>4</th>\n",
       "      <td>35176.657286</td>\n",
       "      <td>2022-01-23</td>\n",
       "      <td>04:01:48.104000</td>\n",
       "    </tr>\n",
       "  </tbody>\n",
       "</table>\n",
       "</div>"
      ],
      "text/plain": [
       "          price        date             time\n",
       "0  35180.435463  2022-01-23  00:02:46.621000\n",
       "1  35432.611344  2022-01-23  01:00:04.966000\n",
       "2  35448.608107  2022-01-23  02:02:42.311000\n",
       "3  35044.592629  2022-01-23  03:00:30.933000\n",
       "4  35176.657286  2022-01-23  04:01:48.104000"
      ]
     },
     "execution_count": 8,
     "metadata": {},
     "output_type": "execute_result"
    }
   ],
   "source": [
    "## Seperate date and time from timestamp column\n",
    "df['date'] = df['timestamp'].dt.date\n",
    "df['time'] = df['timestamp'].dt.time\n",
    "## Drope timestamp column\n",
    "df.drop(columns=['timestamp'], inplace=True)\n",
    "df.head()"
   ]
  },
  {
   "cell_type": "code",
   "execution_count": 9,
   "metadata": {},
   "outputs": [
    {
     "data": {
      "text/html": [
       "<div>\n",
       "<style scoped>\n",
       "    .dataframe tbody tr th:only-of-type {\n",
       "        vertical-align: middle;\n",
       "    }\n",
       "\n",
       "    .dataframe tbody tr th {\n",
       "        vertical-align: top;\n",
       "    }\n",
       "\n",
       "    .dataframe thead th {\n",
       "        text-align: right;\n",
       "    }\n",
       "</style>\n",
       "<table border=\"1\" class=\"dataframe\">\n",
       "  <thead>\n",
       "    <tr style=\"text-align: right;\">\n",
       "      <th></th>\n",
       "      <th>price</th>\n",
       "      <th>date</th>\n",
       "      <th>time</th>\n",
       "    </tr>\n",
       "  </thead>\n",
       "  <tbody>\n",
       "    <tr>\n",
       "      <th>0</th>\n",
       "      <td>35180.435463</td>\n",
       "      <td>2022-01-23</td>\n",
       "      <td>00:02:46</td>\n",
       "    </tr>\n",
       "    <tr>\n",
       "      <th>1</th>\n",
       "      <td>35432.611344</td>\n",
       "      <td>2022-01-23</td>\n",
       "      <td>01:00:04</td>\n",
       "    </tr>\n",
       "    <tr>\n",
       "      <th>2</th>\n",
       "      <td>35448.608107</td>\n",
       "      <td>2022-01-23</td>\n",
       "      <td>02:02:42</td>\n",
       "    </tr>\n",
       "    <tr>\n",
       "      <th>3</th>\n",
       "      <td>35044.592629</td>\n",
       "      <td>2022-01-23</td>\n",
       "      <td>03:00:30</td>\n",
       "    </tr>\n",
       "    <tr>\n",
       "      <th>4</th>\n",
       "      <td>35176.657286</td>\n",
       "      <td>2022-01-23</td>\n",
       "      <td>04:01:48</td>\n",
       "    </tr>\n",
       "  </tbody>\n",
       "</table>\n",
       "</div>"
      ],
      "text/plain": [
       "          price        date      time\n",
       "0  35180.435463  2022-01-23  00:02:46\n",
       "1  35432.611344  2022-01-23  01:00:04\n",
       "2  35448.608107  2022-01-23  02:02:42\n",
       "3  35044.592629  2022-01-23  03:00:30\n",
       "4  35176.657286  2022-01-23  04:01:48"
      ]
     },
     "execution_count": 9,
     "metadata": {},
     "output_type": "execute_result"
    }
   ],
   "source": [
    "## Remove value after decimal point from second in time column\n",
    "df['time'] = df['time'].astype(str).str[:8]\n",
    "df.head()"
   ]
  },
  {
   "cell_type": "code",
   "execution_count": 11,
   "metadata": {},
   "outputs": [
    {
     "data": {
      "text/plain": [
       "<AxesSubplot:xlabel='time'>"
      ]
     },
     "execution_count": 11,
     "metadata": {},
     "output_type": "execute_result"
    },
    {
     "data": {
      "image/png": "[encoded data removed]",
      "text/plain": [
       "<Figure size 432x288 with 1 Axes>"
      ]
     },
     "metadata": {
      "needs_background": "light"
     },
     "output_type": "display_data"
    }
   ],
   "source": [
    "## Plot the price data in a line chart\n",
    "df.plot(x='time', y='price', kind='line')"
   ]
  },
  {
   "cell_type": "code",
   "execution_count": 12,
   "metadata": {},
   "outputs": [],
   "source": [
    "data_loc = '../Data/'\n",
    "df.to_csv(data_loc + 'bitcoin_price_data.csv', index=False)"
   ]
  }
 ],
 "metadata": {
  "interpreter": {
   "hash": "c0dda6f42e519251ec9addb79a09d3e83e69394a04db0024f266cb0465281f09"
  },
  "kernelspec": {
   "display_name": "Python 3.7.9 64-bit ('ai': conda)",
   "language": "python",
   "name": "python3"
  },
  "language_info": {
   "codemirror_mode": {
    "name": "ipython",
    "version": 3
   },
   "file_extension": ".py",
   "mimetype": "text/x-python",
   "name": "python",
   "nbconvert_exporter": "python",
   "pygments_lexer": "ipython3",
   "version": "3.7.9"
  },
  "orig_nbformat": 4
 },
 "nbformat": 4,
 "nbformat_minor": 2
}
