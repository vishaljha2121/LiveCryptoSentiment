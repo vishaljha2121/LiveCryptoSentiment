{
 "cells": [
  {
   "cell_type": "code",
   "execution_count": 1,
   "metadata": {},
   "outputs": [],
   "source": [
    "## Module import\n",
    "import numpy as np\n",
    "import pandas as pd"
   ]
  },
  {
   "cell_type": "code",
   "execution_count": 2,
   "metadata": {},
   "outputs": [],
   "source": [
    "## Data import\n",
    "data_loc = '../Data/'\n",
    "\n",
    "sentiment_data = pd.read_csv(data_loc + 'BTC_final_score.csv')\n",
    "price_data = pd.read_csv(data_loc + 'bitcoin_price_data.csv')"
   ]
  },
  {
   "cell_type": "code",
   "execution_count": 3,
   "metadata": {},
   "outputs": [
    {
     "data": {
      "text/html": [
       "<div>\n",
       "<style scoped>\n",
       "    .dataframe tbody tr th:only-of-type {\n",
       "        vertical-align: middle;\n",
       "    }\n",
       "\n",
       "    .dataframe tbody tr th {\n",
       "        vertical-align: top;\n",
       "    }\n",
       "\n",
       "    .dataframe thead th {\n",
       "        text-align: right;\n",
       "    }\n",
       "</style>\n",
       "<table border=\"1\" class=\"dataframe\">\n",
       "  <thead>\n",
       "    <tr style=\"text-align: right;\">\n",
       "      <th></th>\n",
       "      <th>final_score</th>\n",
       "      <th>tweet</th>\n",
       "      <th>time</th>\n",
       "      <th>date</th>\n",
       "      <th>1_min_window_score</th>\n",
       "      <th>1_hour_window_score</th>\n",
       "    </tr>\n",
       "  </thead>\n",
       "  <tbody>\n",
       "    <tr>\n",
       "      <th>0</th>\n",
       "      <td>0.000000</td>\n",
       "      <td>Opinion: Does Bitcoin Magazine create valuable...</td>\n",
       "      <td>12:37:45</td>\n",
       "      <td>2022-01-23 12:37:45</td>\n",
       "      <td>0.000000</td>\n",
       "      <td>NaN</td>\n",
       "    </tr>\n",
       "    <tr>\n",
       "      <th>1</th>\n",
       "      <td>0.000000</td>\n",
       "      <td>@glyph @eevee @jlazaroff Also needs to learn B...</td>\n",
       "      <td>12:37:50</td>\n",
       "      <td>2022-01-23 12:37:50</td>\n",
       "      <td>0.000000</td>\n",
       "      <td>NaN</td>\n",
       "    </tr>\n",
       "    <tr>\n",
       "      <th>2</th>\n",
       "      <td>0.000000</td>\n",
       "      <td>@RaoulGMI Previous cycles at 800 days before t...</td>\n",
       "      <td>12:37:51</td>\n",
       "      <td>2022-01-23 12:37:51</td>\n",
       "      <td>0.000000</td>\n",
       "      <td>NaN</td>\n",
       "    </tr>\n",
       "    <tr>\n",
       "      <th>3</th>\n",
       "      <td>0.000475</td>\n",
       "      <td>Bitcoin 1-day social activity:  Galaxy Score™ ...</td>\n",
       "      <td>12:37:52</td>\n",
       "      <td>2022-01-23 12:37:52</td>\n",
       "      <td>0.000475</td>\n",
       "      <td>NaN</td>\n",
       "    </tr>\n",
       "    <tr>\n",
       "      <th>4</th>\n",
       "      <td>0.000000</td>\n",
       "      <td>Is this me or Everyone who don’t have money to...</td>\n",
       "      <td>12:38:00</td>\n",
       "      <td>2022-01-23 12:38:00</td>\n",
       "      <td>0.000000</td>\n",
       "      <td>NaN</td>\n",
       "    </tr>\n",
       "  </tbody>\n",
       "</table>\n",
       "</div>"
      ],
      "text/plain": [
       "   final_score                                              tweet      time  \\\n",
       "0     0.000000  Opinion: Does Bitcoin Magazine create valuable...  12:37:45   \n",
       "1     0.000000  @glyph @eevee @jlazaroff Also needs to learn B...  12:37:50   \n",
       "2     0.000000  @RaoulGMI Previous cycles at 800 days before t...  12:37:51   \n",
       "3     0.000475  Bitcoin 1-day social activity:  Galaxy Score™ ...  12:37:52   \n",
       "4     0.000000  Is this me or Everyone who don’t have money to...  12:38:00   \n",
       "\n",
       "                  date  1_min_window_score  1_hour_window_score  \n",
       "0  2022-01-23 12:37:45            0.000000                  NaN  \n",
       "1  2022-01-23 12:37:50            0.000000                  NaN  \n",
       "2  2022-01-23 12:37:51            0.000000                  NaN  \n",
       "3  2022-01-23 12:37:52            0.000475                  NaN  \n",
       "4  2022-01-23 12:38:00            0.000000                  NaN  "
      ]
     },
     "execution_count": 3,
     "metadata": {},
     "output_type": "execute_result"
    }
   ],
   "source": [
    "sentiment_data.head()"
   ]
  },
  {
   "cell_type": "code",
   "execution_count": 4,
   "metadata": {},
   "outputs": [
    {
     "data": {
      "text/html": [
       "<div>\n",
       "<style scoped>\n",
       "    .dataframe tbody tr th:only-of-type {\n",
       "        vertical-align: middle;\n",
       "    }\n",
       "\n",
       "    .dataframe tbody tr th {\n",
       "        vertical-align: top;\n",
       "    }\n",
       "\n",
       "    .dataframe thead th {\n",
       "        text-align: right;\n",
       "    }\n",
       "</style>\n",
       "<table border=\"1\" class=\"dataframe\">\n",
       "  <thead>\n",
       "    <tr style=\"text-align: right;\">\n",
       "      <th></th>\n",
       "      <th>final_score</th>\n",
       "      <th>tweet</th>\n",
       "      <th>time</th>\n",
       "      <th>date</th>\n",
       "      <th>1_min_window_score</th>\n",
       "      <th>1_hour_window_score</th>\n",
       "      <th>hour</th>\n",
       "    </tr>\n",
       "  </thead>\n",
       "  <tbody>\n",
       "    <tr>\n",
       "      <th>0</th>\n",
       "      <td>0.000000</td>\n",
       "      <td>Opinion: Does Bitcoin Magazine create valuable...</td>\n",
       "      <td>12:37:45</td>\n",
       "      <td>2022-01-23 12:37:45</td>\n",
       "      <td>0.000000</td>\n",
       "      <td>NaN</td>\n",
       "      <td>12</td>\n",
       "    </tr>\n",
       "    <tr>\n",
       "      <th>1</th>\n",
       "      <td>0.000000</td>\n",
       "      <td>@glyph @eevee @jlazaroff Also needs to learn B...</td>\n",
       "      <td>12:37:50</td>\n",
       "      <td>2022-01-23 12:37:50</td>\n",
       "      <td>0.000000</td>\n",
       "      <td>NaN</td>\n",
       "      <td>12</td>\n",
       "    </tr>\n",
       "    <tr>\n",
       "      <th>2</th>\n",
       "      <td>0.000000</td>\n",
       "      <td>@RaoulGMI Previous cycles at 800 days before t...</td>\n",
       "      <td>12:37:51</td>\n",
       "      <td>2022-01-23 12:37:51</td>\n",
       "      <td>0.000000</td>\n",
       "      <td>NaN</td>\n",
       "      <td>12</td>\n",
       "    </tr>\n",
       "    <tr>\n",
       "      <th>3</th>\n",
       "      <td>0.000475</td>\n",
       "      <td>Bitcoin 1-day social activity:  Galaxy Score™ ...</td>\n",
       "      <td>12:37:52</td>\n",
       "      <td>2022-01-23 12:37:52</td>\n",
       "      <td>0.000475</td>\n",
       "      <td>NaN</td>\n",
       "      <td>12</td>\n",
       "    </tr>\n",
       "    <tr>\n",
       "      <th>4</th>\n",
       "      <td>0.000000</td>\n",
       "      <td>Is this me or Everyone who don’t have money to...</td>\n",
       "      <td>12:38:00</td>\n",
       "      <td>2022-01-23 12:38:00</td>\n",
       "      <td>0.000000</td>\n",
       "      <td>NaN</td>\n",
       "      <td>12</td>\n",
       "    </tr>\n",
       "  </tbody>\n",
       "</table>\n",
       "</div>"
      ],
      "text/plain": [
       "   final_score                                              tweet      time  \\\n",
       "0     0.000000  Opinion: Does Bitcoin Magazine create valuable...  12:37:45   \n",
       "1     0.000000  @glyph @eevee @jlazaroff Also needs to learn B...  12:37:50   \n",
       "2     0.000000  @RaoulGMI Previous cycles at 800 days before t...  12:37:51   \n",
       "3     0.000475  Bitcoin 1-day social activity:  Galaxy Score™ ...  12:37:52   \n",
       "4     0.000000  Is this me or Everyone who don’t have money to...  12:38:00   \n",
       "\n",
       "                  date  1_min_window_score  1_hour_window_score hour  \n",
       "0  2022-01-23 12:37:45            0.000000                  NaN   12  \n",
       "1  2022-01-23 12:37:50            0.000000                  NaN   12  \n",
       "2  2022-01-23 12:37:51            0.000000                  NaN   12  \n",
       "3  2022-01-23 12:37:52            0.000475                  NaN   12  \n",
       "4  2022-01-23 12:38:00            0.000000                  NaN   12  "
      ]
     },
     "execution_count": 4,
     "metadata": {},
     "output_type": "execute_result"
    }
   ],
   "source": [
    "## Create an hour column\n",
    "sentiment_data['hour'] = sentiment_data['time'].apply(lambda x: x.split(':')[0])\n",
    "sentiment_data.head()"
   ]
  },
  {
   "cell_type": "code",
   "execution_count": 5,
   "metadata": {},
   "outputs": [
    {
     "data": {
      "text/plain": [
       "<AxesSubplot:xlabel='time'>"
      ]
     },
     "execution_count": 5,
     "metadata": {},
     "output_type": "execute_result"
    },
    {
     "data": {
      "image/png": "[encoded data removed]",
      "text/plain": [
       "<Figure size 864x432 with 1 Axes>"
      ]
     },
     "metadata": {
      "needs_background": "light"
     },
     "output_type": "display_data"
    }
   ],
   "source": [
    "## Plot the sentiment score\n",
    "sentiment_data.plot(x='time', y='1_hour_window_score', figsize=(12,6))"
   ]
  },
  {
   "cell_type": "code",
   "execution_count": 6,
   "metadata": {},
   "outputs": [
    {
     "data": {
      "text/html": [
       "<div>\n",
       "<style scoped>\n",
       "    .dataframe tbody tr th:only-of-type {\n",
       "        vertical-align: middle;\n",
       "    }\n",
       "\n",
       "    .dataframe tbody tr th {\n",
       "        vertical-align: top;\n",
       "    }\n",
       "\n",
       "    .dataframe thead th {\n",
       "        text-align: right;\n",
       "    }\n",
       "</style>\n",
       "<table border=\"1\" class=\"dataframe\">\n",
       "  <thead>\n",
       "    <tr style=\"text-align: right;\">\n",
       "      <th></th>\n",
       "      <th>price</th>\n",
       "      <th>date</th>\n",
       "      <th>time</th>\n",
       "    </tr>\n",
       "  </thead>\n",
       "  <tbody>\n",
       "    <tr>\n",
       "      <th>0</th>\n",
       "      <td>35180.435463</td>\n",
       "      <td>2022-01-23</td>\n",
       "      <td>00:02:46</td>\n",
       "    </tr>\n",
       "    <tr>\n",
       "      <th>1</th>\n",
       "      <td>35432.611344</td>\n",
       "      <td>2022-01-23</td>\n",
       "      <td>01:00:04</td>\n",
       "    </tr>\n",
       "    <tr>\n",
       "      <th>2</th>\n",
       "      <td>35448.608107</td>\n",
       "      <td>2022-01-23</td>\n",
       "      <td>02:02:42</td>\n",
       "    </tr>\n",
       "    <tr>\n",
       "      <th>3</th>\n",
       "      <td>35044.592629</td>\n",
       "      <td>2022-01-23</td>\n",
       "      <td>03:00:30</td>\n",
       "    </tr>\n",
       "    <tr>\n",
       "      <th>4</th>\n",
       "      <td>35176.657286</td>\n",
       "      <td>2022-01-23</td>\n",
       "      <td>04:01:48</td>\n",
       "    </tr>\n",
       "  </tbody>\n",
       "</table>\n",
       "</div>"
      ],
      "text/plain": [
       "          price        date      time\n",
       "0  35180.435463  2022-01-23  00:02:46\n",
       "1  35432.611344  2022-01-23  01:00:04\n",
       "2  35448.608107  2022-01-23  02:02:42\n",
       "3  35044.592629  2022-01-23  03:00:30\n",
       "4  35176.657286  2022-01-23  04:01:48"
      ]
     },
     "execution_count": 6,
     "metadata": {},
     "output_type": "execute_result"
    }
   ],
   "source": [
    "price_data.head()"
   ]
  },
  {
   "cell_type": "code",
   "execution_count": 7,
   "metadata": {},
   "outputs": [
    {
     "data": {
      "text/html": [
       "<div>\n",
       "<style scoped>\n",
       "    .dataframe tbody tr th:only-of-type {\n",
       "        vertical-align: middle;\n",
       "    }\n",
       "\n",
       "    .dataframe tbody tr th {\n",
       "        vertical-align: top;\n",
       "    }\n",
       "\n",
       "    .dataframe thead th {\n",
       "        text-align: right;\n",
       "    }\n",
       "</style>\n",
       "<table border=\"1\" class=\"dataframe\">\n",
       "  <thead>\n",
       "    <tr style=\"text-align: right;\">\n",
       "      <th></th>\n",
       "      <th>price</th>\n",
       "      <th>date</th>\n",
       "      <th>time</th>\n",
       "      <th>hour</th>\n",
       "    </tr>\n",
       "  </thead>\n",
       "  <tbody>\n",
       "    <tr>\n",
       "      <th>0</th>\n",
       "      <td>35180.435463</td>\n",
       "      <td>2022-01-23</td>\n",
       "      <td>00:02:46</td>\n",
       "      <td>00</td>\n",
       "    </tr>\n",
       "    <tr>\n",
       "      <th>1</th>\n",
       "      <td>35432.611344</td>\n",
       "      <td>2022-01-23</td>\n",
       "      <td>01:00:04</td>\n",
       "      <td>01</td>\n",
       "    </tr>\n",
       "    <tr>\n",
       "      <th>2</th>\n",
       "      <td>35448.608107</td>\n",
       "      <td>2022-01-23</td>\n",
       "      <td>02:02:42</td>\n",
       "      <td>02</td>\n",
       "    </tr>\n",
       "    <tr>\n",
       "      <th>3</th>\n",
       "      <td>35044.592629</td>\n",
       "      <td>2022-01-23</td>\n",
       "      <td>03:00:30</td>\n",
       "      <td>03</td>\n",
       "    </tr>\n",
       "    <tr>\n",
       "      <th>4</th>\n",
       "      <td>35176.657286</td>\n",
       "      <td>2022-01-23</td>\n",
       "      <td>04:01:48</td>\n",
       "      <td>04</td>\n",
       "    </tr>\n",
       "  </tbody>\n",
       "</table>\n",
       "</div>"
      ],
      "text/plain": [
       "          price        date      time hour\n",
       "0  35180.435463  2022-01-23  00:02:46   00\n",
       "1  35432.611344  2022-01-23  01:00:04   01\n",
       "2  35448.608107  2022-01-23  02:02:42   02\n",
       "3  35044.592629  2022-01-23  03:00:30   03\n",
       "4  35176.657286  2022-01-23  04:01:48   04"
      ]
     },
     "execution_count": 7,
     "metadata": {},
     "output_type": "execute_result"
    }
   ],
   "source": [
    "price_data['hour'] = price_data['time'].apply(lambda x: x.split(':')[0])\n",
    "price_data.head()"
   ]
  },
  {
   "cell_type": "code",
   "execution_count": 8,
   "metadata": {},
   "outputs": [],
   "source": [
    "## Convert hour column to int\n",
    "price_data['hour'] = price_data['hour'].astype(int)\n",
    "sentiment_data['hour'] = sentiment_data['hour'].astype(int)"
   ]
  },
  {
   "cell_type": "code",
   "execution_count": 9,
   "metadata": {},
   "outputs": [
    {
     "data": {
      "text/plain": [
       "<AxesSubplot:xlabel='time'>"
      ]
     },
     "execution_count": 9,
     "metadata": {},
     "output_type": "execute_result"
    },
    {
     "data": {
      "image/png": "[encoded data removed]",
      "text/plain": [
       "<Figure size 864x432 with 1 Axes>"
      ]
     },
     "metadata": {
      "needs_background": "light"
     },
     "output_type": "display_data"
    }
   ],
   "source": [
    "## Plot the price data\n",
    "price_data.plot(x='time', y='price', figsize=(12,6))"
   ]
  },
  {
   "cell_type": "code",
   "execution_count": 10,
   "metadata": {},
   "outputs": [
    {
     "data": {
      "text/html": [
       "<div>\n",
       "<style scoped>\n",
       "    .dataframe tbody tr th:only-of-type {\n",
       "        vertical-align: middle;\n",
       "    }\n",
       "\n",
       "    .dataframe tbody tr th {\n",
       "        vertical-align: top;\n",
       "    }\n",
       "\n",
       "    .dataframe thead th {\n",
       "        text-align: right;\n",
       "    }\n",
       "</style>\n",
       "<table border=\"1\" class=\"dataframe\">\n",
       "  <thead>\n",
       "    <tr style=\"text-align: right;\">\n",
       "      <th></th>\n",
       "      <th>final_score</th>\n",
       "      <th>tweet</th>\n",
       "      <th>time</th>\n",
       "      <th>date</th>\n",
       "      <th>1_min_window_score</th>\n",
       "      <th>1_hour_window_score</th>\n",
       "      <th>hour</th>\n",
       "    </tr>\n",
       "  </thead>\n",
       "  <tbody>\n",
       "    <tr>\n",
       "      <th>0</th>\n",
       "      <td>0.000000</td>\n",
       "      <td>Opinion: Does Bitcoin Magazine create valuable...</td>\n",
       "      <td>12:37:45</td>\n",
       "      <td>2022-01-23 12:37:45</td>\n",
       "      <td>0.000000</td>\n",
       "      <td>NaN</td>\n",
       "      <td>12</td>\n",
       "    </tr>\n",
       "    <tr>\n",
       "      <th>1</th>\n",
       "      <td>0.000000</td>\n",
       "      <td>@glyph @eevee @jlazaroff Also needs to learn B...</td>\n",
       "      <td>12:37:50</td>\n",
       "      <td>2022-01-23 12:37:50</td>\n",
       "      <td>0.000000</td>\n",
       "      <td>NaN</td>\n",
       "      <td>12</td>\n",
       "    </tr>\n",
       "    <tr>\n",
       "      <th>2</th>\n",
       "      <td>0.000000</td>\n",
       "      <td>@RaoulGMI Previous cycles at 800 days before t...</td>\n",
       "      <td>12:37:51</td>\n",
       "      <td>2022-01-23 12:37:51</td>\n",
       "      <td>0.000000</td>\n",
       "      <td>NaN</td>\n",
       "      <td>12</td>\n",
       "    </tr>\n",
       "    <tr>\n",
       "      <th>3</th>\n",
       "      <td>0.000475</td>\n",
       "      <td>Bitcoin 1-day social activity:  Galaxy Score™ ...</td>\n",
       "      <td>12:37:52</td>\n",
       "      <td>2022-01-23 12:37:52</td>\n",
       "      <td>0.000475</td>\n",
       "      <td>NaN</td>\n",
       "      <td>12</td>\n",
       "    </tr>\n",
       "    <tr>\n",
       "      <th>4</th>\n",
       "      <td>0.000000</td>\n",
       "      <td>Is this me or Everyone who don’t have money to...</td>\n",
       "      <td>12:38:00</td>\n",
       "      <td>2022-01-23 12:38:00</td>\n",
       "      <td>0.000000</td>\n",
       "      <td>NaN</td>\n",
       "      <td>12</td>\n",
       "    </tr>\n",
       "  </tbody>\n",
       "</table>\n",
       "</div>"
      ],
      "text/plain": [
       "   final_score                                              tweet      time  \\\n",
       "0     0.000000  Opinion: Does Bitcoin Magazine create valuable...  12:37:45   \n",
       "1     0.000000  @glyph @eevee @jlazaroff Also needs to learn B...  12:37:50   \n",
       "2     0.000000  @RaoulGMI Previous cycles at 800 days before t...  12:37:51   \n",
       "3     0.000475  Bitcoin 1-day social activity:  Galaxy Score™ ...  12:37:52   \n",
       "4     0.000000  Is this me or Everyone who don’t have money to...  12:38:00   \n",
       "\n",
       "                  date  1_min_window_score  1_hour_window_score  hour  \n",
       "0  2022-01-23 12:37:45            0.000000                  NaN    12  \n",
       "1  2022-01-23 12:37:50            0.000000                  NaN    12  \n",
       "2  2022-01-23 12:37:51            0.000000                  NaN    12  \n",
       "3  2022-01-23 12:37:52            0.000475                  NaN    12  \n",
       "4  2022-01-23 12:38:00            0.000000                  NaN    12  "
      ]
     },
     "execution_count": 10,
     "metadata": {},
     "output_type": "execute_result"
    }
   ],
   "source": [
    "## Create a new dataframe where the time of format H:M:S, where H changes every hour\n",
    "sentiment_data['hour'] = sentiment_data['time'].apply(lambda x: x.split(':')[0])\n",
    "sentiment_data['hour'] = sentiment_data['hour'].astype(int)\n",
    "sentiment_data.head()"
   ]
  },
  {
   "cell_type": "code",
   "execution_count": 11,
   "metadata": {},
   "outputs": [
    {
     "data": {
      "text/html": [
       "<div>\n",
       "<style scoped>\n",
       "    .dataframe tbody tr th:only-of-type {\n",
       "        vertical-align: middle;\n",
       "    }\n",
       "\n",
       "    .dataframe tbody tr th {\n",
       "        vertical-align: top;\n",
       "    }\n",
       "\n",
       "    .dataframe thead th {\n",
       "        text-align: right;\n",
       "    }\n",
       "</style>\n",
       "<table border=\"1\" class=\"dataframe\">\n",
       "  <thead>\n",
       "    <tr style=\"text-align: right;\">\n",
       "      <th></th>\n",
       "      <th>final_score</th>\n",
       "      <th>tweet</th>\n",
       "      <th>time</th>\n",
       "      <th>date</th>\n",
       "      <th>1_min_window_score</th>\n",
       "      <th>1_hour_window_score</th>\n",
       "      <th>hour</th>\n",
       "    </tr>\n",
       "  </thead>\n",
       "  <tbody>\n",
       "    <tr>\n",
       "      <th>567</th>\n",
       "      <td>0.000000</td>\n",
       "      <td>Bitcoin drops 50% from its peak value — RT Bus...</td>\n",
       "      <td>12:59:59</td>\n",
       "      <td>2022-01-23 12:59:59</td>\n",
       "      <td>0.000000</td>\n",
       "      <td>0.000260</td>\n",
       "      <td>12</td>\n",
       "    </tr>\n",
       "    <tr>\n",
       "      <th>2514</th>\n",
       "      <td>0.000000</td>\n",
       "      <td>Zoom out #bitcoin</td>\n",
       "      <td>13:59:57</td>\n",
       "      <td>2022-01-23 13:59:57</td>\n",
       "      <td>0.000000</td>\n",
       "      <td>0.000581</td>\n",
       "      <td>13</td>\n",
       "    </tr>\n",
       "    <tr>\n",
       "      <th>4772</th>\n",
       "      <td>0.003301</td>\n",
       "      <td>@mecee  @TrammellVC  @TuurDemeester   and many...</td>\n",
       "      <td>14:59:59</td>\n",
       "      <td>2022-01-23 14:59:59</td>\n",
       "      <td>0.003301</td>\n",
       "      <td>0.000833</td>\n",
       "      <td>14</td>\n",
       "    </tr>\n",
       "    <tr>\n",
       "      <th>7251</th>\n",
       "      <td>0.000000</td>\n",
       "      <td>Bitcoin pumps again</td>\n",
       "      <td>15:59:57</td>\n",
       "      <td>2022-01-23 15:59:57</td>\n",
       "      <td>0.000000</td>\n",
       "      <td>0.001140</td>\n",
       "      <td>15</td>\n",
       "    </tr>\n",
       "    <tr>\n",
       "      <th>9254</th>\n",
       "      <td>0.000000</td>\n",
       "      <td>Fear and great index still super negative 😱!!!...</td>\n",
       "      <td>16:59:59</td>\n",
       "      <td>2022-01-23 16:59:59</td>\n",
       "      <td>0.000000</td>\n",
       "      <td>0.001094</td>\n",
       "      <td>16</td>\n",
       "    </tr>\n",
       "  </tbody>\n",
       "</table>\n",
       "</div>"
      ],
      "text/plain": [
       "      final_score                                              tweet  \\\n",
       "567      0.000000  Bitcoin drops 50% from its peak value — RT Bus...   \n",
       "2514     0.000000                                  Zoom out #bitcoin   \n",
       "4772     0.003301  @mecee  @TrammellVC  @TuurDemeester   and many...   \n",
       "7251     0.000000                                Bitcoin pumps again   \n",
       "9254     0.000000  Fear and great index still super negative 😱!!!...   \n",
       "\n",
       "          time                 date  1_min_window_score  1_hour_window_score  \\\n",
       "567   12:59:59  2022-01-23 12:59:59            0.000000             0.000260   \n",
       "2514  13:59:57  2022-01-23 13:59:57            0.000000             0.000581   \n",
       "4772  14:59:59  2022-01-23 14:59:59            0.003301             0.000833   \n",
       "7251  15:59:57  2022-01-23 15:59:57            0.000000             0.001140   \n",
       "9254  16:59:59  2022-01-23 16:59:59            0.000000             0.001094   \n",
       "\n",
       "      hour  \n",
       "567     12  \n",
       "2514    13  \n",
       "4772    14  \n",
       "7251    15  \n",
       "9254    16  "
      ]
     },
     "execution_count": 11,
     "metadata": {},
     "output_type": "execute_result"
    }
   ],
   "source": [
    "## Create a dataframe from snetiment_data with rows where the hour value of next row is plus 1\n",
    "sentiment_data_hourly = sentiment_data[sentiment_data['hour'] != sentiment_data['hour'].shift(-1)]\n",
    "sentiment_data_hourly.head()"
   ]
  },
  {
   "cell_type": "code",
   "execution_count": 12,
   "metadata": {},
   "outputs": [
    {
     "data": {
      "text/html": [
       "<div>\n",
       "<style scoped>\n",
       "    .dataframe tbody tr th:only-of-type {\n",
       "        vertical-align: middle;\n",
       "    }\n",
       "\n",
       "    .dataframe tbody tr th {\n",
       "        vertical-align: top;\n",
       "    }\n",
       "\n",
       "    .dataframe thead th {\n",
       "        text-align: right;\n",
       "    }\n",
       "</style>\n",
       "<table border=\"1\" class=\"dataframe\">\n",
       "  <thead>\n",
       "    <tr style=\"text-align: right;\">\n",
       "      <th></th>\n",
       "      <th>final_score</th>\n",
       "      <th>tweet</th>\n",
       "      <th>time</th>\n",
       "      <th>date</th>\n",
       "      <th>1_min_window_score</th>\n",
       "      <th>1_hour_window_score</th>\n",
       "      <th>hour</th>\n",
       "    </tr>\n",
       "  </thead>\n",
       "  <tbody>\n",
       "    <tr>\n",
       "      <th>4772</th>\n",
       "      <td>0.003301</td>\n",
       "      <td>@mecee  @TrammellVC  @TuurDemeester   and many...</td>\n",
       "      <td>14:59:59</td>\n",
       "      <td>2022-01-23 14:59:59</td>\n",
       "      <td>0.003301</td>\n",
       "      <td>0.000833</td>\n",
       "      <td>14</td>\n",
       "    </tr>\n",
       "    <tr>\n",
       "      <th>7251</th>\n",
       "      <td>0.000000</td>\n",
       "      <td>Bitcoin pumps again</td>\n",
       "      <td>15:59:57</td>\n",
       "      <td>2022-01-23 15:59:57</td>\n",
       "      <td>0.000000</td>\n",
       "      <td>0.001140</td>\n",
       "      <td>15</td>\n",
       "    </tr>\n",
       "    <tr>\n",
       "      <th>9254</th>\n",
       "      <td>0.000000</td>\n",
       "      <td>Fear and great index still super negative 😱!!!...</td>\n",
       "      <td>16:59:59</td>\n",
       "      <td>2022-01-23 16:59:59</td>\n",
       "      <td>0.000000</td>\n",
       "      <td>0.001094</td>\n",
       "      <td>16</td>\n",
       "    </tr>\n",
       "    <tr>\n",
       "      <th>11192</th>\n",
       "      <td>0.002852</td>\n",
       "      <td>@beeple I ask you  Which crypto community enjo...</td>\n",
       "      <td>17:59:57</td>\n",
       "      <td>2022-01-23 17:59:57</td>\n",
       "      <td>0.002852</td>\n",
       "      <td>0.006283</td>\n",
       "      <td>17</td>\n",
       "    </tr>\n",
       "    <tr>\n",
       "      <th>12344</th>\n",
       "      <td>0.000000</td>\n",
       "      <td>@NFDoges Thank you for the airdrop opportunity...</td>\n",
       "      <td>18:31:55</td>\n",
       "      <td>2022-01-23 18:31:55</td>\n",
       "      <td>0.000000</td>\n",
       "      <td>0.000011</td>\n",
       "      <td>18</td>\n",
       "    </tr>\n",
       "  </tbody>\n",
       "</table>\n",
       "</div>"
      ],
      "text/plain": [
       "       final_score                                              tweet  \\\n",
       "4772      0.003301  @mecee  @TrammellVC  @TuurDemeester   and many...   \n",
       "7251      0.000000                                Bitcoin pumps again   \n",
       "9254      0.000000  Fear and great index still super negative 😱!!!...   \n",
       "11192     0.002852  @beeple I ask you  Which crypto community enjo...   \n",
       "12344     0.000000  @NFDoges Thank you for the airdrop opportunity...   \n",
       "\n",
       "           time                 date  1_min_window_score  1_hour_window_score  \\\n",
       "4772   14:59:59  2022-01-23 14:59:59            0.003301             0.000833   \n",
       "7251   15:59:57  2022-01-23 15:59:57            0.000000             0.001140   \n",
       "9254   16:59:59  2022-01-23 16:59:59            0.000000             0.001094   \n",
       "11192  17:59:57  2022-01-23 17:59:57            0.002852             0.006283   \n",
       "12344  18:31:55  2022-01-23 18:31:55            0.000000             0.000011   \n",
       "\n",
       "       hour  \n",
       "4772     14  \n",
       "7251     15  \n",
       "9254     16  \n",
       "11192    17  \n",
       "12344    18  "
      ]
     },
     "execution_count": 12,
     "metadata": {},
     "output_type": "execute_result"
    }
   ],
   "source": [
    "sentiment_data_hourly.tail()"
   ]
  },
  {
   "cell_type": "code",
   "execution_count": 13,
   "metadata": {},
   "outputs": [
    {
     "data": {
      "text/plain": [
       "<matplotlib.legend.Legend at 0x7fcbe44e7350>"
      ]
     },
     "execution_count": 13,
     "metadata": {},
     "output_type": "execute_result"
    },
    {
     "data": {
      "image/png": "[encoded data removed]",
      "text/plain": [
       "<Figure size 864x432 with 1 Axes>"
      ]
     },
     "metadata": {
      "needs_background": "light"
     },
     "output_type": "display_data"
    }
   ],
   "source": [
    "## Plot the sentiment score\n",
    "plot = sentiment_data_hourly.plot(x='time', y='1_hour_window_score', figsize=(12,6))\n",
    "plot.set_xlabel('Time')\n",
    "plot.set_ylabel('1 Hour Window Score')\n",
    "plot.set_title('1 Hour Window Score : BTC')\n",
    "plot.legend(loc='upper left')"
   ]
  },
  {
   "cell_type": "code",
   "execution_count": 14,
   "metadata": {},
   "outputs": [
    {
     "data": {
      "text/html": [
       "<div>\n",
       "<style scoped>\n",
       "    .dataframe tbody tr th:only-of-type {\n",
       "        vertical-align: middle;\n",
       "    }\n",
       "\n",
       "    .dataframe tbody tr th {\n",
       "        vertical-align: top;\n",
       "    }\n",
       "\n",
       "    .dataframe thead th {\n",
       "        text-align: right;\n",
       "    }\n",
       "</style>\n",
       "<table border=\"1\" class=\"dataframe\">\n",
       "  <thead>\n",
       "    <tr style=\"text-align: right;\">\n",
       "      <th></th>\n",
       "      <th>final_score</th>\n",
       "      <th>tweet</th>\n",
       "      <th>time_x</th>\n",
       "      <th>date_x</th>\n",
       "      <th>1_min_window_score</th>\n",
       "      <th>1_hour_window_score</th>\n",
       "      <th>hour</th>\n",
       "      <th>price</th>\n",
       "      <th>date_y</th>\n",
       "      <th>time_y</th>\n",
       "    </tr>\n",
       "  </thead>\n",
       "  <tbody>\n",
       "    <tr>\n",
       "      <th>0</th>\n",
       "      <td>0.000000</td>\n",
       "      <td>Bitcoin drops 50% from its peak value — RT Bus...</td>\n",
       "      <td>12:59:59</td>\n",
       "      <td>2022-01-23 12:59:59</td>\n",
       "      <td>0.000000</td>\n",
       "      <td>0.000260</td>\n",
       "      <td>12</td>\n",
       "      <td>35764.305391</td>\n",
       "      <td>2022-01-23</td>\n",
       "      <td>12:03:02</td>\n",
       "    </tr>\n",
       "    <tr>\n",
       "      <th>1</th>\n",
       "      <td>0.000000</td>\n",
       "      <td>Zoom out #bitcoin</td>\n",
       "      <td>13:59:57</td>\n",
       "      <td>2022-01-23 13:59:57</td>\n",
       "      <td>0.000000</td>\n",
       "      <td>0.000581</td>\n",
       "      <td>13</td>\n",
       "      <td>35924.694758</td>\n",
       "      <td>2022-01-23</td>\n",
       "      <td>13:00:55</td>\n",
       "    </tr>\n",
       "    <tr>\n",
       "      <th>2</th>\n",
       "      <td>0.003301</td>\n",
       "      <td>@mecee  @TrammellVC  @TuurDemeester   and many...</td>\n",
       "      <td>14:59:59</td>\n",
       "      <td>2022-01-23 14:59:59</td>\n",
       "      <td>0.003301</td>\n",
       "      <td>0.000833</td>\n",
       "      <td>14</td>\n",
       "      <td>36066.538675</td>\n",
       "      <td>2022-01-23</td>\n",
       "      <td>14:03:28</td>\n",
       "    </tr>\n",
       "    <tr>\n",
       "      <th>3</th>\n",
       "      <td>0.000000</td>\n",
       "      <td>Bitcoin pumps again</td>\n",
       "      <td>15:59:57</td>\n",
       "      <td>2022-01-23 15:59:57</td>\n",
       "      <td>0.000000</td>\n",
       "      <td>0.001140</td>\n",
       "      <td>15</td>\n",
       "      <td>35208.085093</td>\n",
       "      <td>2022-01-23</td>\n",
       "      <td>15:03:13</td>\n",
       "    </tr>\n",
       "    <tr>\n",
       "      <th>4</th>\n",
       "      <td>0.000000</td>\n",
       "      <td>Fear and great index still super negative 😱!!!...</td>\n",
       "      <td>16:59:59</td>\n",
       "      <td>2022-01-23 16:59:59</td>\n",
       "      <td>0.000000</td>\n",
       "      <td>0.001094</td>\n",
       "      <td>16</td>\n",
       "      <td>35476.641273</td>\n",
       "      <td>2022-01-23</td>\n",
       "      <td>16:12:06</td>\n",
       "    </tr>\n",
       "  </tbody>\n",
       "</table>\n",
       "</div>"
      ],
      "text/plain": [
       "   final_score                                              tweet    time_x  \\\n",
       "0     0.000000  Bitcoin drops 50% from its peak value — RT Bus...  12:59:59   \n",
       "1     0.000000                                  Zoom out #bitcoin  13:59:57   \n",
       "2     0.003301  @mecee  @TrammellVC  @TuurDemeester   and many...  14:59:59   \n",
       "3     0.000000                                Bitcoin pumps again  15:59:57   \n",
       "4     0.000000  Fear and great index still super negative 😱!!!...  16:59:59   \n",
       "\n",
       "                date_x  1_min_window_score  1_hour_window_score  hour  \\\n",
       "0  2022-01-23 12:59:59            0.000000             0.000260    12   \n",
       "1  2022-01-23 13:59:57            0.000000             0.000581    13   \n",
       "2  2022-01-23 14:59:59            0.003301             0.000833    14   \n",
       "3  2022-01-23 15:59:57            0.000000             0.001140    15   \n",
       "4  2022-01-23 16:59:59            0.000000             0.001094    16   \n",
       "\n",
       "          price      date_y    time_y  \n",
       "0  35764.305391  2022-01-23  12:03:02  \n",
       "1  35924.694758  2022-01-23  13:00:55  \n",
       "2  36066.538675  2022-01-23  14:03:28  \n",
       "3  35208.085093  2022-01-23  15:03:13  \n",
       "4  35476.641273  2022-01-23  16:12:06  "
      ]
     },
     "execution_count": 14,
     "metadata": {},
     "output_type": "execute_result"
    }
   ],
   "source": [
    "## Function to merge sentiment_data_hourly and price_data based on time\n",
    "def merge_data(sentiment_data_hourly, price_data):\n",
    "    data = sentiment_data_hourly.merge(price_data, on='hour')\n",
    "    return data\n",
    "\n",
    "data = merge_data(sentiment_data_hourly, price_data)\n",
    "data.head()\n"
   ]
  },
  {
   "cell_type": "code",
   "execution_count": 15,
   "metadata": {},
   "outputs": [],
   "source": [
    "data = data[['hour', '1_hour_window_score', 'price']]"
   ]
  },
  {
   "cell_type": "code",
   "execution_count": 16,
   "metadata": {},
   "outputs": [
    {
     "data": {
      "text/plain": [
       "7"
      ]
     },
     "execution_count": 16,
     "metadata": {},
     "output_type": "execute_result"
    }
   ],
   "source": [
    "len(data)"
   ]
  },
  {
   "cell_type": "code",
   "execution_count": 17,
   "metadata": {},
   "outputs": [
    {
     "data": {
      "text/html": [
       "<div>\n",
       "<style scoped>\n",
       "    .dataframe tbody tr th:only-of-type {\n",
       "        vertical-align: middle;\n",
       "    }\n",
       "\n",
       "    .dataframe tbody tr th {\n",
       "        vertical-align: top;\n",
       "    }\n",
       "\n",
       "    .dataframe thead th {\n",
       "        text-align: right;\n",
       "    }\n",
       "</style>\n",
       "<table border=\"1\" class=\"dataframe\">\n",
       "  <thead>\n",
       "    <tr style=\"text-align: right;\">\n",
       "      <th></th>\n",
       "      <th>hour</th>\n",
       "      <th>1_hour_window_score</th>\n",
       "      <th>price</th>\n",
       "    </tr>\n",
       "  </thead>\n",
       "  <tbody>\n",
       "    <tr>\n",
       "      <th>0</th>\n",
       "      <td>12</td>\n",
       "      <td>0.000260</td>\n",
       "      <td>35764.305391</td>\n",
       "    </tr>\n",
       "    <tr>\n",
       "      <th>1</th>\n",
       "      <td>13</td>\n",
       "      <td>0.000581</td>\n",
       "      <td>35924.694758</td>\n",
       "    </tr>\n",
       "    <tr>\n",
       "      <th>2</th>\n",
       "      <td>14</td>\n",
       "      <td>0.000833</td>\n",
       "      <td>36066.538675</td>\n",
       "    </tr>\n",
       "    <tr>\n",
       "      <th>3</th>\n",
       "      <td>15</td>\n",
       "      <td>0.001140</td>\n",
       "      <td>35208.085093</td>\n",
       "    </tr>\n",
       "    <tr>\n",
       "      <th>4</th>\n",
       "      <td>16</td>\n",
       "      <td>0.001094</td>\n",
       "      <td>35476.641273</td>\n",
       "    </tr>\n",
       "    <tr>\n",
       "      <th>5</th>\n",
       "      <td>17</td>\n",
       "      <td>0.006283</td>\n",
       "      <td>35363.396083</td>\n",
       "    </tr>\n",
       "    <tr>\n",
       "      <th>6</th>\n",
       "      <td>18</td>\n",
       "      <td>0.000011</td>\n",
       "      <td>35472.731436</td>\n",
       "    </tr>\n",
       "  </tbody>\n",
       "</table>\n",
       "</div>"
      ],
      "text/plain": [
       "   hour  1_hour_window_score         price\n",
       "0    12             0.000260  35764.305391\n",
       "1    13             0.000581  35924.694758\n",
       "2    14             0.000833  36066.538675\n",
       "3    15             0.001140  35208.085093\n",
       "4    16             0.001094  35476.641273\n",
       "5    17             0.006283  35363.396083\n",
       "6    18             0.000011  35472.731436"
      ]
     },
     "execution_count": 17,
     "metadata": {},
     "output_type": "execute_result"
    }
   ],
   "source": [
    "data[0:10]"
   ]
  },
  {
   "cell_type": "code",
   "execution_count": 18,
   "metadata": {},
   "outputs": [
    {
     "data": {
      "text/html": [
       "<div>\n",
       "<style scoped>\n",
       "    .dataframe tbody tr th:only-of-type {\n",
       "        vertical-align: middle;\n",
       "    }\n",
       "\n",
       "    .dataframe tbody tr th {\n",
       "        vertical-align: top;\n",
       "    }\n",
       "\n",
       "    .dataframe thead th {\n",
       "        text-align: right;\n",
       "    }\n",
       "</style>\n",
       "<table border=\"1\" class=\"dataframe\">\n",
       "  <thead>\n",
       "    <tr style=\"text-align: right;\">\n",
       "      <th></th>\n",
       "      <th>hour</th>\n",
       "      <th>1_hour_window_score</th>\n",
       "      <th>price</th>\n",
       "    </tr>\n",
       "  </thead>\n",
       "  <tbody>\n",
       "    <tr>\n",
       "      <th>0</th>\n",
       "      <td>12</td>\n",
       "      <td>0.039832</td>\n",
       "      <td>35764.305391</td>\n",
       "    </tr>\n",
       "    <tr>\n",
       "      <th>1</th>\n",
       "      <td>13</td>\n",
       "      <td>0.091004</td>\n",
       "      <td>35924.694758</td>\n",
       "    </tr>\n",
       "    <tr>\n",
       "      <th>2</th>\n",
       "      <td>14</td>\n",
       "      <td>0.131161</td>\n",
       "      <td>36066.538675</td>\n",
       "    </tr>\n",
       "    <tr>\n",
       "      <th>3</th>\n",
       "      <td>15</td>\n",
       "      <td>0.180087</td>\n",
       "      <td>35208.085093</td>\n",
       "    </tr>\n",
       "    <tr>\n",
       "      <th>4</th>\n",
       "      <td>16</td>\n",
       "      <td>0.172682</td>\n",
       "      <td>35476.641273</td>\n",
       "    </tr>\n",
       "  </tbody>\n",
       "</table>\n",
       "</div>"
      ],
      "text/plain": [
       "   hour  1_hour_window_score         price\n",
       "0    12             0.039832  35764.305391\n",
       "1    13             0.091004  35924.694758\n",
       "2    14             0.131161  36066.538675\n",
       "3    15             0.180087  35208.085093\n",
       "4    16             0.172682  35476.641273"
      ]
     },
     "execution_count": 18,
     "metadata": {},
     "output_type": "execute_result"
    }
   ],
   "source": [
    "## Function to normalize 1 hour window score to 0 to 1 and price to 0 to 1\n",
    "def normalize_data(data):\n",
    "    data['1_hour_window_score'] = (data['1_hour_window_score'] - data['1_hour_window_score'].min()) / (data['1_hour_window_score'].max() - data['1_hour_window_score'].min())\n",
    "    #data['price_change_delta'] = (data['price'] - data['price'].shift(1)) / data['price'].shift(1)\n",
    "    return data\n",
    "\n",
    "data = normalize_data(data)\n",
    "data.head()"
   ]
  },
  {
   "cell_type": "code",
   "execution_count": 20,
   "metadata": {},
   "outputs": [
    {
     "data": {
      "text/plain": [
       "<matplotlib.legend.Legend at 0x7fcbe465fe50>"
      ]
     },
     "execution_count": 20,
     "metadata": {},
     "output_type": "execute_result"
    },
    {
     "data": {
      "image/png": "[encoded data removed]",
      "text/plain": [
       "<Figure size 864x432 with 1 Axes>"
      ]
     },
     "metadata": {
      "needs_background": "light"
     },
     "output_type": "display_data"
    }
   ],
   "source": [
    "## Plot price, 1_hour_window_score with time\n",
    "plot = data.plot(x='hour', y=['price','1_hour_window_score'], figsize=(12,6))\n",
    "plot.set_xlabel('Time')\n",
    "plot.set_ylabel('Price, 1 Hour Window Score')\n",
    "plot.set_title('Price, 1 Hour Window Score : BTC')\n",
    "plot.legend(loc='upper left')\n"
   ]
  },
  {
   "cell_type": "code",
   "execution_count": 26,
   "metadata": {},
   "outputs": [
    {
     "data": {
      "text/html": [
       "<div>\n",
       "<style scoped>\n",
       "    .dataframe tbody tr th:only-of-type {\n",
       "        vertical-align: middle;\n",
       "    }\n",
       "\n",
       "    .dataframe tbody tr th {\n",
       "        vertical-align: top;\n",
       "    }\n",
       "\n",
       "    .dataframe thead th {\n",
       "        text-align: right;\n",
       "    }\n",
       "</style>\n",
       "<table border=\"1\" class=\"dataframe\">\n",
       "  <thead>\n",
       "    <tr style=\"text-align: right;\">\n",
       "      <th></th>\n",
       "      <th>hour</th>\n",
       "      <th>1_hour_window_score</th>\n",
       "      <th>price</th>\n",
       "      <th>price_norm</th>\n",
       "    </tr>\n",
       "  </thead>\n",
       "  <tbody>\n",
       "    <tr>\n",
       "      <th>0</th>\n",
       "      <td>12</td>\n",
       "      <td>0.039832</td>\n",
       "      <td>35764.305391</td>\n",
       "      <td>0.297846</td>\n",
       "    </tr>\n",
       "    <tr>\n",
       "      <th>1</th>\n",
       "      <td>13</td>\n",
       "      <td>0.091004</td>\n",
       "      <td>35924.694758</td>\n",
       "      <td>0.497672</td>\n",
       "    </tr>\n",
       "    <tr>\n",
       "      <th>2</th>\n",
       "      <td>14</td>\n",
       "      <td>0.131161</td>\n",
       "      <td>36066.538675</td>\n",
       "      <td>0.510348</td>\n",
       "    </tr>\n",
       "    <tr>\n",
       "      <th>3</th>\n",
       "      <td>15</td>\n",
       "      <td>0.180087</td>\n",
       "      <td>35208.085093</td>\n",
       "      <td>0.190203</td>\n",
       "    </tr>\n",
       "    <tr>\n",
       "      <th>4</th>\n",
       "      <td>16</td>\n",
       "      <td>0.172682</td>\n",
       "      <td>35476.641273</td>\n",
       "      <td>0.294852</td>\n",
       "    </tr>\n",
       "  </tbody>\n",
       "</table>\n",
       "</div>"
      ],
      "text/plain": [
       "   hour  1_hour_window_score         price  price_norm\n",
       "0    12             0.039832  35764.305391    0.297846\n",
       "1    13             0.091004  35924.694758    0.497672\n",
       "2    14             0.131161  36066.538675    0.510348\n",
       "3    15             0.180087  35208.085093    0.190203\n",
       "4    16             0.172682  35476.641273    0.294852"
      ]
     },
     "execution_count": 26,
     "metadata": {},
     "output_type": "execute_result"
    }
   ],
   "source": [
    "## Normalise the price data\n",
    "data['price_norm'] = (price_data['price'] - price_data['price'].min()) / (price_data['price'].max() - price_data['price'].min())\n",
    "data.head()"
   ]
  },
  {
   "cell_type": "code",
   "execution_count": 29,
   "metadata": {},
   "outputs": [
    {
     "data": {
      "text/plain": [
       "<matplotlib.legend.Legend at 0x7fcbe53e7d90>"
      ]
     },
     "execution_count": 29,
     "metadata": {},
     "output_type": "execute_result"
    },
    {
     "data": {
      "image/png": "[encoded data removed]",
      "text/plain": [
       "<Figure size 864x432 with 1 Axes>"
      ]
     },
     "metadata": {
      "needs_background": "light"
     },
     "output_type": "display_data"
    }
   ],
   "source": [
    "## Plot price, 1_hour_window_score with time where price is bar and 1_hour_window_score is line in the same plot\n",
    "ax = data[['hour', '1_hour_window_score']].plot(x='hour',color='red', figsize=(12,6))\n",
    "data[['hour', 'price_norm']].plot(x='hour', kind='area', figsize=(12,6), ax=ax)\n",
    "ax.set_xlabel('Time')\n",
    "ax.set_ylabel('Price, Sentiment Score')\n",
    "ax.set_title('Price, Sentiment Score : BTC')\n",
    "ax.legend(loc='upper left')\n"
   ]
  },
  {
   "cell_type": "code",
   "execution_count": null,
   "metadata": {},
   "outputs": [],
   "source": []
  }
 ],
 "metadata": {
  "interpreter": {
   "hash": "c0dda6f42e519251ec9addb79a09d3e83e69394a04db0024f266cb0465281f09"
  },
  "kernelspec": {
   "display_name": "Python 3.7.9 64-bit ('ai': conda)",
   "language": "python",
   "name": "python3"
  },
  "language_info": {
   "codemirror_mode": {
    "name": "ipython",
    "version": 3
   },
   "file_extension": ".py",
   "mimetype": "text/x-python",
   "name": "python",
   "nbconvert_exporter": "python",
   "pygments_lexer": "ipython3",
   "version": "3.7.9"
  },
  "orig_nbformat": 4
 },
 "nbformat": 4,
 "nbformat_minor": 2
}
